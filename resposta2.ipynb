{
 "cells": [
  {
   "cell_type": "markdown",
   "metadata": {},
   "source": [
    "Dada a função objetivo $S(x_1, x_2) = 7,5x_1^2 + 12x_2^2 - 3x_1^2x_2^2 + 18x_1 + 11$, determine a localização e a natureza (mínimo, máximo ou sela) dos seus pontos estacionários.\n",
    "\n",
    "Esboce o gráfico da superfície da função objetivo em função de $x_1$ e $x_2$ e outro gráfico com 50 curvas de níveis, ambos contendo todos os pontos estacionários encontrados. Indique no segundo gráfico a localização dos pontos estacionários.\n"
   ]
  },
  {
   "cell_type": "code",
   "execution_count": 8,
   "metadata": {},
   "outputs": [
    {
     "data": {
      "text/plain": [
       "[-6*x1*x2**2 + 15.0*x1 + 18, -6*x1**2*x2 + 24*x2]"
      ]
     },
     "execution_count": 8,
     "metadata": {},
     "output_type": "execute_result"
    }
   ],
   "source": [
    "import sympy as sp\n",
    "\n",
    "# Defining the variables\n",
    "x1, x2 = sp.symbols('x1 x2')\n",
    "\n",
    "# Defining the function S(x1, x2)\n",
    "S = 7.5*(x1**2) + 12*(x2**2) - 3*(x1**2)*(x2**2) + 18*x1 + 11\n",
    "\n",
    "# Calculating the gradient\n",
    "grad_S = [sp.diff(S, var) for var in (x1, x2)]\n",
    "\n",
    "grad_S"
   ]
  },
  {
   "cell_type": "code",
   "execution_count": 6,
   "metadata": {},
   "outputs": [
    {
     "data": {
      "text/plain": [
       "[(-2.00000000000000, -1.00000000000000),\n",
       " (-2.00000000000000, 1.00000000000000),\n",
       " (-1.20000000000000, 0.0),\n",
       " (2.00000000000000, -2.00000000000000),\n",
       " (2.00000000000000, 2.00000000000000)]"
      ]
     },
     "execution_count": 6,
     "metadata": {},
     "output_type": "execute_result"
    }
   ],
   "source": [
    "# Solving the system where the gradient is zero\n",
    "stationary_points = sp.solve(grad_S, (x1, x2))\n",
    "\n",
    "stationary_points\n"
   ]
  },
  {
   "cell_type": "code",
   "execution_count": 9,
   "metadata": {},
   "outputs": [
    {
     "data": {
      "text/latex": [
       "$\\displaystyle \\left[\\begin{matrix}15.0 - 6 x_{2}^{2} & - 12 x_{1} x_{2}\\\\- 12 x_{1} x_{2} & 24 - 6 x_{1}^{2}\\end{matrix}\\right]$"
      ],
      "text/plain": [
       "Matrix([\n",
       "[15.0 - 6*x2**2,    -12*x1*x2],\n",
       "[     -12*x1*x2, 24 - 6*x1**2]])"
      ]
     },
     "execution_count": 9,
     "metadata": {},
     "output_type": "execute_result"
    }
   ],
   "source": [
    "# Calculating the Hessian matrix for the corrected function\n",
    "Hessian = sp.hessian(S, (x1, x2))\n",
    "Hessian"
   ]
  },
  {
   "cell_type": "code",
   "execution_count": 18,
   "metadata": {},
   "outputs": [
    {
     "data": {
      "text/plain": [
       "([(-2.00000000000000, -1.00000000000000),\n",
       "  (-2.00000000000000, 1.00000000000000),\n",
       "  (-1.20000000000000, 0.0),\n",
       "  (2.00000000000000, -2.00000000000000),\n",
       "  (2.00000000000000, 2.00000000000000)],\n",
       " [{28.9182308941496: 1, -19.9182308941496: 1},\n",
       "  {28.9182308941496: 1, -19.9182308941496: 1},\n",
       "  {15.0000000000000: 1, 15.3600000000000: 1},\n",
       "  {-52.7104760399646: 1, 43.7104760399646: 1},\n",
       "  {-52.7104760399646: 1, 43.7104760399646: 1}])"
      ]
     },
     "execution_count": 18,
     "metadata": {},
     "output_type": "execute_result"
    }
   ],
   "source": [
    "# Calculate eigenvalues for each stationary point\n",
    "eigenvalues_at_points = []\n",
    "for point in stationary_points:\n",
    "    # substituting point in Hessian\n",
    "    hessian_at_point = Hessian.subs({x1: point[0], x2: point[1]})\n",
    "    #print(hessian_at_point)\n",
    "    eigenvalues = hessian_at_point.eigenvals()\n",
    "    #print(eigenvalues)\n",
    "    eigenvalues_at_points.append(eigenvalues)\n",
    "\n",
    "# Display the stationary points along with their corresponding eigenvalues\n",
    "stationary_points, eigenvalues_at_points"
   ]
  },
  {
   "cell_type": "markdown",
   "metadata": {},
   "source": [
    "\n",
    "Pontos Estacionários e Natureza: \n",
    "\n",
    "1. Ponto Estacionário: $(-2, -1)$ \n",
    "- Autovalores da Matriz Hessiana: $28.92$ e $-19.92$ \n",
    "- Natureza: Ponto de sela\n",
    "\n",
    "2. Ponto Estacionário: $(-2, 1)$ \n",
    "- Autovalores da Matriz Hessiana: $28.92$ e $-19.92$ \n",
    "- Natureza: Ponto de sela\n",
    "\n",
    "3. Ponto Estacionário: $(-1.2, 0)$ \n",
    "- Autovalores da Matriz Hessiana: $15.00$ e $15.36$ \n",
    "- Natureza: Mínimo local\n",
    "\n",
    "4. Ponto Estacionário: $(2, -2)$ \n",
    "- Autovalores da Matriz Hessiana: $-52.71$ e $43.71$ \n",
    "- Natureza: Ponto de sela\n",
    "\n",
    "5. Ponto Estacionário: $(2, 2)$ \n",
    "- Autovalores da Matriz Hessiana: $-52.71$ e $43.71$ \n",
    "- Natureza: Ponto de sela\n",
    "\n",
    "Dos pontos estacionários encontrados, o ponto $(-1.2, 0)$ é um mínimo local, enquanto os demais são pontos de sela."
   ]
  }
 ],
 "metadata": {
  "kernelspec": {
   "display_name": "Python 3",
   "language": "python",
   "name": "python3"
  },
  "language_info": {
   "codemirror_mode": {
    "name": "ipython",
    "version": 3
   },
   "file_extension": ".py",
   "mimetype": "text/x-python",
   "name": "python",
   "nbconvert_exporter": "python",
   "pygments_lexer": "ipython3",
   "version": "3.11.1"
  }
 },
 "nbformat": 4,
 "nbformat_minor": 2
}
