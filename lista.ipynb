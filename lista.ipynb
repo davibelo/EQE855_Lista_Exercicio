{
 "cells": [
  {
   "cell_type": "markdown",
   "metadata": {},
   "source": [
    "#### Questão 1:\n",
    "A engenheira Diana Prince, responsável por um determinado processo químico, notou, ainda na fase de projeto da planta, a ocorrência da reação de hidrogenação do eteno:\n",
    "\n",
    "$$\n",
    "\\text{C}_2\\text{H}_4 + \\text{H}_2 \\leftrightarrow \\text{C}_2\\text{H}_6\n",
    "$$\n",
    "\n",
    "que para fins do processo em questão é indesejada. Querendo saber a quantidade de eteno que seria perdida no processo, Diana decidiu calcular o número de mols $n_1$, $n_2$ e $n_3$ das espécies em equilíbrio, lembrando que, no equilíbrio, a energia de Gibbs total do sistema, $G_t(n_1, n_2, n_3)$ é mínima. Sabendo que as espécies atômicas se conservam, qual foi o problema de otimização formulado pela Eng. Diana?\n"
   ]
  },
  {
   "cell_type": "markdown",
   "metadata": {},
   "source": [
    "Resposta:"
   ]
  },
  {
   "cell_type": "markdown",
   "metadata": {},
   "source": [
    "\n",
    "A questão envolve a reação de hidrogenação do eteno (C₂H₄) para formar etano (C₂H₆):\n",
    "\n",
    "$$\\text{C}_2\\text{H}_4 + \\text{H}_2 \\leftrightarrow \\text{C}_2\\text{H}_6$$\n",
    "\n",
    "Aqui, $n_2$, $n_3$ e $n_1$ representam o número de mols de eteno, hidrogênio e etano, respectivamente. O objetivo é minimizar a energia livre de Gibbs total $G_T(n_1, n_2, n_3)$ no equilíbrio, respeitando a conservação das espécies atômicas.\n",
    "\n",
    "Para conservar as espécies atômicas no sistema, vamos considerar o número total de átomos de carbono (C) e hidrogênio (H):\n",
    "\n",
    "1. **Carbono (C)**: O número total de átomos de carbono no sistema é dado por $2n_1 + 2n_2$. Como o número de átomos de carbono é conservado, temos: $$2n_1 + 2n_2 = 2n_{2,0}$$ Onde $n_{2,0}$ é o número inicial de mols de eteno.\n",
    "\n",
    "2. **Hidrogênio (H)**: O número total de átomos de hidrogênio no sistema é dado por $4n_1 + 2n_2 + 2n_3$. Portanto, a conservação do hidrogênio é: $$4n_1 + 2n_2 + 2n_3 = 4n_{2,0} + 2n_{3,0}$$ Onde $n_{2,0}$ e $n_{3,0}$ são os números iniciais de mols de eteno e hidrogênio, respectivamente.\n",
    "\n",
    "No equilíbrio, a energia livre de Gibbs total do sistema $G_T(n_1, n_2, n_3)$ é mínima. A energia livre de Gibbs para a reação é dada por:\n",
    "\n",
    "$$\\Delta G = \\Delta G^\\circ + RT \\ln \\frac{n_1}{n_2 \\cdot n_3}$$\n",
    "\n",
    "Onde: \n",
    "- $\\Delta G^\\circ$ é a variação da energia livre padrão. \n",
    "- $R$ é a constante dos gases. \n",
    "- $T$ é a temperatura absoluta.\n",
    "\n",
    "Para minimizar $G_T$, vamos minimizar $\\Delta G$ sob as restrições das leis de conservação das espécies.\n",
    "\n",
    "O problema de otimização formulado é:\n",
    "\n",
    "Minimizar: $$G_T(n_1, n_2, n_3) = \\Delta G^\\circ + RT \\ln \\frac{n_1}{n_2 \\cdot n_3}$$\n",
    "\n",
    "Sujeito às restrições: $$2n_1 + 2n_2 = 2n_{2,0}$$ $$4n_1 + 2n_2 + 2n_3 = 4n_{2,0} + 2n_{3,0}$$"
   ]
  },
  {
   "cell_type": "markdown",
   "metadata": {},
   "source": [
    "Para calcular a energia livre de Gibbs padrão ($\\Delta G^\\circ$) da reação, precisamos das energias livres de Gibbs padrão de formação ($\\Delta G_f^\\circ$) de cada um dos reagentes e produtos envolvidos na reação.\n",
    "\n",
    "A energia livre de Gibbs padrão de formação de uma substância é a mudança na energia livre de Gibbs quando 1 mol da substância é formado a partir de seus elementos nas suas formas mais estáveis, sob condições padrão (298 K e 1 atm).\n",
    "\n",
    "Vamos considerar a reação química dada:\n",
    "\n",
    "$$\\text{C}_2\\text{H}_4 (g) + \\text{H}_2 (g) \\leftrightarrow \\text{C}_2\\text{H}_6 (g)$$\n",
    "\n",
    "A variação da energia livre de Gibbs padrão para essa reação ($\\Delta G^\\circ$) pode ser calculada utilizando as energias livres de Gibbs padrão de formação dos compostos:\n",
    "\n",
    "$$\\Delta G^\\circ = \\sum (\\Delta G_f^\\circ \\text{dos produtos}) - \\sum (\\Delta G_f^\\circ \\text{dos reagentes})$$\n",
    "\n",
    "Substituindo os valores:\n",
    "\n",
    "$$\\Delta G^\\circ = \\Delta G_f^\\circ (\\text{C}_2\\text{H}_6) - [\\Delta G_f^\\circ (\\text{C}_2\\text{H}_4) + \\Delta G_f^\\circ (\\text{H}_2)]$$\n",
    "\n",
    "**Valores Típicos de $\\Delta G_f^\\circ$** Os valores de $\\Delta G_f^\\circ$ podem ser encontrados em tabelas termodinâmicas. Para o caso da reação dada, os valores típicos são:\n",
    "\n",
    "- $\\Delta G_f^\\circ (\\text{C}_2\\text{H}_4 \\text{(g)}) \\approx 68.1 \\, \\text{kJ/mol}$ \n",
    "- $\\Delta G_f^\\circ (\\text{H}_2 \\text{(g)}) = 0 \\, \\text{kJ/mol}$ (porque o $\\text{H}_2$ é um elemento na sua forma mais estável) \n",
    "- $\\Delta G_f^\\circ (\\text{C}_2\\text{H}_6 \\text{(g)}) \\approx -32.89 \\, \\text{kJ/mol}$\n",
    "\n",
    "**Cálculo de $\\Delta G^\\circ$** Agora, podemos calcular $\\Delta G^\\circ$ para a reação:\n",
    "\n",
    "$$\\Delta G^\\circ = \\Delta G_f^\\circ (\\text{C}_2\\text{H}_6) - [\\Delta G_f^\\circ (\\text{C}_2\\text{H}_4) + \\Delta G_f^\\circ (\\text{H}_2)]$$\n",
    "\n",
    "Substituindo os valores:\n",
    "\n",
    "$$\\Delta G^\\circ = -32.89 \\, \\text{kJ/mol} - [68.1 \\, \\text{kJ/mol} + 0 \\, \\text{kJ/mol}]$$\n",
    "\n",
    "$$\\Delta G^\\circ = -32.89 \\, \\text{kJ/mol} - 68.1 \\, \\text{kJ/mol}$$\n",
    "\n",
    "$$\\Delta G^\\circ = -100.99 \\, \\text{kJ/mol}$$\n"
   ]
  },
  {
   "cell_type": "code",
   "execution_count": 16,
   "metadata": {},
   "outputs": [
    {
     "name": "stdout",
     "output_type": "stream",
     "text": [
      "Optimal n1 (C2H6): 0.0001 mol\n",
      "Optimal n2 (C2H4): 0.9999 mol\n",
      "Optimal n3 (H2): 1.9999 mol\n",
      "Minimum Gibbs free energy: -127.0927 kJ/mol\n"
     ]
    }
   ],
   "source": [
    "import numpy as np\n",
    "from scipy.optimize import minimize\n",
    "\n",
    "# Constants\n",
    "R = 8.314  # Gas constant in J/(mol*K)\n",
    "T = 298.15  # Temperature in Kelvin\n",
    "delta_G_std = -100.99 * 1000  # Standard Gibbs free energy in J/mol (converted from kJ/mol to J/mol)\n",
    "\n",
    "# Initial mol values for C2H4 (n2,0) and H2 (n3,0)\n",
    "n2_0 = 1.0  # Initial moles of C2H4\n",
    "n3_0 = 1.0  # Initial moles of H2\n",
    "\n",
    "# Objective function to minimize (Gibbs free energy)\n",
    "def gibbs_free_energy(x):\n",
    "    n1, n2, n3 = x\n",
    "    term1 = delta_G_std\n",
    "    term2 = R * T * np.log(n1 / (n2 * n3))\n",
    "    return term1 + term2\n",
    "\n",
    "# Constraint 1: Conservation of Carbon (C) atoms\n",
    "def constraint1(x):\n",
    "    n1, n2, n3 = x\n",
    "    return 2*n1 + 2*n2 - 2*n2_0\n",
    "\n",
    "# Constraint 2: Conservation of Hydrogen (H) atoms\n",
    "def constraint2(x):\n",
    "    n1, n2, n3 = x\n",
    "    return 4*n1 + 2*n2 + 2*n3 - (4*n2_0 + 2*n3_0)\n",
    "\n",
    "# Initial guesses for n1, n2, n3\n",
    "x0 = [0.5, 0.5, 0.5]\n",
    "\n",
    "# Constraints as a dictionary\n",
    "constraints = [{'type': 'eq', 'fun': constraint1},\n",
    "               {'type': 'eq', 'fun': constraint2}]\n",
    "\n",
    "# Bounds for n1, n2, n3 (typically non-negative values)\n",
    "bounds = [(1E-5, None), (1E-5, None), (1E-5, None)]\n",
    "\n",
    "# Solving the optimization problem\n",
    "result = minimize(gibbs_free_energy, x0, method='SLSQP', bounds=bounds, constraints=constraints)\n",
    "\n",
    "# Output results\n",
    "n1_opt, n2_opt, n3_opt = result.x\n",
    "gibbs_min = result.fun\n",
    "\n",
    "print(f\"Optimal n1 (C2H6): {n1_opt:.4f} mol\")\n",
    "print(f\"Optimal n2 (C2H4): {n2_opt:.4f} mol\")\n",
    "print(f\"Optimal n3 (H2): {n3_opt:.4f} mol\")\n",
    "print(f\"Minimum Gibbs free energy: {gibbs_min/1000:.4f} kJ/mol\")\n"
   ]
  }
 ],
 "metadata": {
  "kernelspec": {
   "display_name": "Python 3",
   "language": "python",
   "name": "python3"
  },
  "language_info": {
   "codemirror_mode": {
    "name": "ipython",
    "version": 3
   },
   "file_extension": ".py",
   "mimetype": "text/x-python",
   "name": "python",
   "nbconvert_exporter": "python",
   "pygments_lexer": "ipython3",
   "version": "3.11.1"
  }
 },
 "nbformat": 4,
 "nbformat_minor": 2
}
